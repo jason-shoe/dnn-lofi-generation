{
 "cells": [
  {
   "cell_type": "code",
   "execution_count": 1,
   "id": "bored-stuart",
   "metadata": {},
   "outputs": [],
   "source": [
    "import IPython\n",
    "import pandas as pd\n",
    "from scipy.io import wavfile\n",
    "\n",
    "import numpy as np\n",
    "import tensorflow as tf\n",
    "from tensorflow import keras\n",
    "from tensorflow.keras import layers\n",
    "import os\n",
    "import matplotlib.pyplot as plt\n",
    "import numpy as np\n",
    "import math\n",
    "\n",
    "from tensorflow.keras.preprocessing.sequence import TimeseriesGenerator\n",
    "from sklearn.preprocessing import MinMaxScaler, StandardScaler\n",
    "from sklearn.model_selection import train_test_split\n",
    "from tensorflow.keras.layers import LSTM, Dropout,Dense, BatchNormalization, GRU\n",
    "from tensorflow.keras import activations\n",
    "from tensorflow.keras import regularizers\n",
    "from pickle import load\n",
    "\n",
    "from helper import to_sequences, to_sequences_new, predict_song"
   ]
  },
  {
   "cell_type": "markdown",
   "id": "eligible-spirituality",
   "metadata": {},
   "source": [
    "## Data Loading and Preprocessing"
   ]
  },
  {
   "cell_type": "code",
   "execution_count": 2,
   "id": "administrative-crisis",
   "metadata": {},
   "outputs": [
    {
     "name": "stdout",
     "output_type": "stream",
     "text": [
      ".DS_Store\n",
      "xData0-50-10.csv\n",
      "xData1-50-10.csv\n",
      "xData10-50-10.csv\n",
      "xData11-50-10.csv\n"
     ]
    }
   ],
   "source": [
    "#load file\n",
    "\n",
    "#set your music file path\n",
    "directory = '../../data/wav_csvs/downsample'\n",
    "x_files = []\n",
    "count=0\n",
    "for filename in os.listdir(directory):\n",
    "    print(filename)\n",
    "    if count ==3: #only load 4 wav files \n",
    "        break\n",
    "    if('xData' in filename):\n",
    "        x_files.append(pd.read_csv(directory + '/' + filename, index_col=0))\n",
    "        count=count+1\n",
    "#concatenate into a long sequence\n",
    "x_combined = pd.concat(x_files)"
   ]
  },
  {
   "cell_type": "code",
   "execution_count": 3,
   "id": "realistic-launch",
   "metadata": {},
   "outputs": [
    {
     "name": "stdout",
     "output_type": "stream",
     "text": [
      "max_val 32768\n"
     ]
    },
    {
     "data": {
      "text/html": [
       "<div>\n",
       "<style scoped>\n",
       "    .dataframe tbody tr th:only-of-type {\n",
       "        vertical-align: middle;\n",
       "    }\n",
       "\n",
       "    .dataframe tbody tr th {\n",
       "        vertical-align: top;\n",
       "    }\n",
       "\n",
       "    .dataframe thead th {\n",
       "        text-align: right;\n",
       "    }\n",
       "</style>\n",
       "<table border=\"1\" class=\"dataframe\">\n",
       "  <thead>\n",
       "    <tr style=\"text-align: right;\">\n",
       "      <th></th>\n",
       "      <th>0</th>\n",
       "      <th>1</th>\n",
       "      <th>2</th>\n",
       "      <th>3</th>\n",
       "      <th>4</th>\n",
       "      <th>5</th>\n",
       "      <th>6</th>\n",
       "      <th>7</th>\n",
       "      <th>8</th>\n",
       "      <th>9</th>\n",
       "      <th>...</th>\n",
       "      <th>44090</th>\n",
       "      <th>44091</th>\n",
       "      <th>44092</th>\n",
       "      <th>44093</th>\n",
       "      <th>44094</th>\n",
       "      <th>44095</th>\n",
       "      <th>44096</th>\n",
       "      <th>44097</th>\n",
       "      <th>44098</th>\n",
       "      <th>44099</th>\n",
       "    </tr>\n",
       "  </thead>\n",
       "  <tbody>\n",
       "    <tr>\n",
       "      <th>1.wav-1</th>\n",
       "      <td>-0.001404</td>\n",
       "      <td>-0.058075</td>\n",
       "      <td>-0.061829</td>\n",
       "      <td>-0.033051</td>\n",
       "      <td>-0.004181</td>\n",
       "      <td>-0.011353</td>\n",
       "      <td>-0.013519</td>\n",
       "      <td>0.009613</td>\n",
       "      <td>0.067688</td>\n",
       "      <td>0.145020</td>\n",
       "      <td>...</td>\n",
       "      <td>0.110443</td>\n",
       "      <td>0.092407</td>\n",
       "      <td>0.066772</td>\n",
       "      <td>0.024506</td>\n",
       "      <td>-0.087036</td>\n",
       "      <td>-0.127167</td>\n",
       "      <td>-0.083252</td>\n",
       "      <td>0.001526</td>\n",
       "      <td>0.033020</td>\n",
       "      <td>0.035828</td>\n",
       "    </tr>\n",
       "    <tr>\n",
       "      <th>1.wav-2</th>\n",
       "      <td>-0.081665</td>\n",
       "      <td>-0.069031</td>\n",
       "      <td>0.015869</td>\n",
       "      <td>0.091827</td>\n",
       "      <td>0.130890</td>\n",
       "      <td>0.106232</td>\n",
       "      <td>0.050079</td>\n",
       "      <td>0.024109</td>\n",
       "      <td>0.042297</td>\n",
       "      <td>0.056061</td>\n",
       "      <td>...</td>\n",
       "      <td>0.223389</td>\n",
       "      <td>0.184326</td>\n",
       "      <td>0.134094</td>\n",
       "      <td>0.079468</td>\n",
       "      <td>0.038483</td>\n",
       "      <td>0.033020</td>\n",
       "      <td>0.011230</td>\n",
       "      <td>0.000763</td>\n",
       "      <td>-0.027130</td>\n",
       "      <td>-0.050720</td>\n",
       "    </tr>\n",
       "    <tr>\n",
       "      <th>10.wav-1</th>\n",
       "      <td>-0.160278</td>\n",
       "      <td>-0.198425</td>\n",
       "      <td>-0.173370</td>\n",
       "      <td>-0.148346</td>\n",
       "      <td>-0.108002</td>\n",
       "      <td>-0.078461</td>\n",
       "      <td>-0.054565</td>\n",
       "      <td>-0.043823</td>\n",
       "      <td>-0.029572</td>\n",
       "      <td>0.017822</td>\n",
       "      <td>...</td>\n",
       "      <td>-0.260712</td>\n",
       "      <td>-0.235382</td>\n",
       "      <td>-0.240417</td>\n",
       "      <td>-0.211792</td>\n",
       "      <td>-0.178619</td>\n",
       "      <td>-0.152222</td>\n",
       "      <td>-0.131256</td>\n",
       "      <td>-0.077606</td>\n",
       "      <td>-0.021179</td>\n",
       "      <td>-0.002472</td>\n",
       "    </tr>\n",
       "    <tr>\n",
       "      <th>10.wav-2</th>\n",
       "      <td>-0.122742</td>\n",
       "      <td>-0.209473</td>\n",
       "      <td>-0.229523</td>\n",
       "      <td>-0.187653</td>\n",
       "      <td>-0.168945</td>\n",
       "      <td>-0.188202</td>\n",
       "      <td>-0.195435</td>\n",
       "      <td>-0.242188</td>\n",
       "      <td>-0.280273</td>\n",
       "      <td>-0.279938</td>\n",
       "      <td>...</td>\n",
       "      <td>0.469910</td>\n",
       "      <td>0.298737</td>\n",
       "      <td>0.162201</td>\n",
       "      <td>0.101501</td>\n",
       "      <td>0.109802</td>\n",
       "      <td>0.108948</td>\n",
       "      <td>-0.002197</td>\n",
       "      <td>-0.196960</td>\n",
       "      <td>-0.416443</td>\n",
       "      <td>-0.549744</td>\n",
       "    </tr>\n",
       "    <tr>\n",
       "      <th>100.wav-1</th>\n",
       "      <td>0.003906</td>\n",
       "      <td>-0.182983</td>\n",
       "      <td>-0.348877</td>\n",
       "      <td>-0.452881</td>\n",
       "      <td>-0.509644</td>\n",
       "      <td>-0.411987</td>\n",
       "      <td>-0.265991</td>\n",
       "      <td>-0.072968</td>\n",
       "      <td>0.071198</td>\n",
       "      <td>0.111206</td>\n",
       "      <td>...</td>\n",
       "      <td>-0.137512</td>\n",
       "      <td>-0.132751</td>\n",
       "      <td>-0.052704</td>\n",
       "      <td>0.009857</td>\n",
       "      <td>0.102692</td>\n",
       "      <td>0.153290</td>\n",
       "      <td>0.167877</td>\n",
       "      <td>0.126556</td>\n",
       "      <td>0.095093</td>\n",
       "      <td>0.029449</td>\n",
       "    </tr>\n",
       "    <tr>\n",
       "      <th>...</th>\n",
       "      <td>...</td>\n",
       "      <td>...</td>\n",
       "      <td>...</td>\n",
       "      <td>...</td>\n",
       "      <td>...</td>\n",
       "      <td>...</td>\n",
       "      <td>...</td>\n",
       "      <td>...</td>\n",
       "      <td>...</td>\n",
       "      <td>...</td>\n",
       "      <td>...</td>\n",
       "      <td>...</td>\n",
       "      <td>...</td>\n",
       "      <td>...</td>\n",
       "      <td>...</td>\n",
       "      <td>...</td>\n",
       "      <td>...</td>\n",
       "      <td>...</td>\n",
       "      <td>...</td>\n",
       "      <td>...</td>\n",
       "      <td>...</td>\n",
       "    </tr>\n",
       "    <tr>\n",
       "      <th>533.wav-2</th>\n",
       "      <td>-0.701324</td>\n",
       "      <td>-0.744751</td>\n",
       "      <td>-0.761200</td>\n",
       "      <td>-0.749786</td>\n",
       "      <td>-0.720520</td>\n",
       "      <td>-0.664490</td>\n",
       "      <td>-0.575714</td>\n",
       "      <td>-0.465027</td>\n",
       "      <td>-0.362854</td>\n",
       "      <td>-0.220734</td>\n",
       "      <td>...</td>\n",
       "      <td>0.006409</td>\n",
       "      <td>0.068146</td>\n",
       "      <td>0.166718</td>\n",
       "      <td>0.242249</td>\n",
       "      <td>0.254700</td>\n",
       "      <td>0.252655</td>\n",
       "      <td>0.209808</td>\n",
       "      <td>0.198090</td>\n",
       "      <td>0.133972</td>\n",
       "      <td>0.089752</td>\n",
       "    </tr>\n",
       "    <tr>\n",
       "      <th>535.wav-1</th>\n",
       "      <td>-0.166412</td>\n",
       "      <td>-0.238831</td>\n",
       "      <td>-0.287537</td>\n",
       "      <td>-0.211731</td>\n",
       "      <td>-0.105560</td>\n",
       "      <td>-0.096527</td>\n",
       "      <td>-0.123627</td>\n",
       "      <td>-0.185425</td>\n",
       "      <td>-0.176422</td>\n",
       "      <td>-0.211945</td>\n",
       "      <td>...</td>\n",
       "      <td>0.044708</td>\n",
       "      <td>0.023346</td>\n",
       "      <td>0.037109</td>\n",
       "      <td>-0.002777</td>\n",
       "      <td>0.024902</td>\n",
       "      <td>0.030579</td>\n",
       "      <td>0.016205</td>\n",
       "      <td>0.009644</td>\n",
       "      <td>0.017151</td>\n",
       "      <td>0.013153</td>\n",
       "    </tr>\n",
       "    <tr>\n",
       "      <th>535.wav-2</th>\n",
       "      <td>0.207428</td>\n",
       "      <td>0.464783</td>\n",
       "      <td>0.529114</td>\n",
       "      <td>0.311188</td>\n",
       "      <td>0.061584</td>\n",
       "      <td>-0.140900</td>\n",
       "      <td>-0.028351</td>\n",
       "      <td>0.086975</td>\n",
       "      <td>0.319153</td>\n",
       "      <td>0.413727</td>\n",
       "      <td>...</td>\n",
       "      <td>-0.010406</td>\n",
       "      <td>0.091736</td>\n",
       "      <td>0.122620</td>\n",
       "      <td>0.140747</td>\n",
       "      <td>0.074463</td>\n",
       "      <td>0.033905</td>\n",
       "      <td>-0.014282</td>\n",
       "      <td>-0.124939</td>\n",
       "      <td>-0.143036</td>\n",
       "      <td>-0.129272</td>\n",
       "    </tr>\n",
       "    <tr>\n",
       "      <th>536.wav-1</th>\n",
       "      <td>0.324890</td>\n",
       "      <td>0.391357</td>\n",
       "      <td>0.309662</td>\n",
       "      <td>0.165131</td>\n",
       "      <td>0.052399</td>\n",
       "      <td>0.030304</td>\n",
       "      <td>-0.024414</td>\n",
       "      <td>-0.118500</td>\n",
       "      <td>-0.134308</td>\n",
       "      <td>-0.192383</td>\n",
       "      <td>...</td>\n",
       "      <td>0.115601</td>\n",
       "      <td>0.083710</td>\n",
       "      <td>0.202728</td>\n",
       "      <td>0.327850</td>\n",
       "      <td>0.255005</td>\n",
       "      <td>0.047241</td>\n",
       "      <td>-0.154510</td>\n",
       "      <td>-0.250366</td>\n",
       "      <td>-0.125153</td>\n",
       "      <td>0.050232</td>\n",
       "    </tr>\n",
       "    <tr>\n",
       "      <th>536.wav-2</th>\n",
       "      <td>-0.200470</td>\n",
       "      <td>-0.300415</td>\n",
       "      <td>-0.324768</td>\n",
       "      <td>-0.281311</td>\n",
       "      <td>-0.203308</td>\n",
       "      <td>-0.100220</td>\n",
       "      <td>-0.022247</td>\n",
       "      <td>-0.005157</td>\n",
       "      <td>0.019623</td>\n",
       "      <td>0.045776</td>\n",
       "      <td>...</td>\n",
       "      <td>-0.144440</td>\n",
       "      <td>-0.048737</td>\n",
       "      <td>-0.012299</td>\n",
       "      <td>-0.049011</td>\n",
       "      <td>-0.020020</td>\n",
       "      <td>-0.021484</td>\n",
       "      <td>-0.052399</td>\n",
       "      <td>0.031647</td>\n",
       "      <td>0.088928</td>\n",
       "      <td>-0.023102</td>\n",
       "    </tr>\n",
       "  </tbody>\n",
       "</table>\n",
       "<p>300 rows × 44100 columns</p>\n",
       "</div>"
      ],
      "text/plain": [
       "                  0         1         2         3         4         5  \\\n",
       "1.wav-1   -0.001404 -0.058075 -0.061829 -0.033051 -0.004181 -0.011353   \n",
       "1.wav-2   -0.081665 -0.069031  0.015869  0.091827  0.130890  0.106232   \n",
       "10.wav-1  -0.160278 -0.198425 -0.173370 -0.148346 -0.108002 -0.078461   \n",
       "10.wav-2  -0.122742 -0.209473 -0.229523 -0.187653 -0.168945 -0.188202   \n",
       "100.wav-1  0.003906 -0.182983 -0.348877 -0.452881 -0.509644 -0.411987   \n",
       "...             ...       ...       ...       ...       ...       ...   \n",
       "533.wav-2 -0.701324 -0.744751 -0.761200 -0.749786 -0.720520 -0.664490   \n",
       "535.wav-1 -0.166412 -0.238831 -0.287537 -0.211731 -0.105560 -0.096527   \n",
       "535.wav-2  0.207428  0.464783  0.529114  0.311188  0.061584 -0.140900   \n",
       "536.wav-1  0.324890  0.391357  0.309662  0.165131  0.052399  0.030304   \n",
       "536.wav-2 -0.200470 -0.300415 -0.324768 -0.281311 -0.203308 -0.100220   \n",
       "\n",
       "                  6         7         8         9  ...     44090     44091  \\\n",
       "1.wav-1   -0.013519  0.009613  0.067688  0.145020  ...  0.110443  0.092407   \n",
       "1.wav-2    0.050079  0.024109  0.042297  0.056061  ...  0.223389  0.184326   \n",
       "10.wav-1  -0.054565 -0.043823 -0.029572  0.017822  ... -0.260712 -0.235382   \n",
       "10.wav-2  -0.195435 -0.242188 -0.280273 -0.279938  ...  0.469910  0.298737   \n",
       "100.wav-1 -0.265991 -0.072968  0.071198  0.111206  ... -0.137512 -0.132751   \n",
       "...             ...       ...       ...       ...  ...       ...       ...   \n",
       "533.wav-2 -0.575714 -0.465027 -0.362854 -0.220734  ...  0.006409  0.068146   \n",
       "535.wav-1 -0.123627 -0.185425 -0.176422 -0.211945  ...  0.044708  0.023346   \n",
       "535.wav-2 -0.028351  0.086975  0.319153  0.413727  ... -0.010406  0.091736   \n",
       "536.wav-1 -0.024414 -0.118500 -0.134308 -0.192383  ...  0.115601  0.083710   \n",
       "536.wav-2 -0.022247 -0.005157  0.019623  0.045776  ... -0.144440 -0.048737   \n",
       "\n",
       "              44092     44093     44094     44095     44096     44097  \\\n",
       "1.wav-1    0.066772  0.024506 -0.087036 -0.127167 -0.083252  0.001526   \n",
       "1.wav-2    0.134094  0.079468  0.038483  0.033020  0.011230  0.000763   \n",
       "10.wav-1  -0.240417 -0.211792 -0.178619 -0.152222 -0.131256 -0.077606   \n",
       "10.wav-2   0.162201  0.101501  0.109802  0.108948 -0.002197 -0.196960   \n",
       "100.wav-1 -0.052704  0.009857  0.102692  0.153290  0.167877  0.126556   \n",
       "...             ...       ...       ...       ...       ...       ...   \n",
       "533.wav-2  0.166718  0.242249  0.254700  0.252655  0.209808  0.198090   \n",
       "535.wav-1  0.037109 -0.002777  0.024902  0.030579  0.016205  0.009644   \n",
       "535.wav-2  0.122620  0.140747  0.074463  0.033905 -0.014282 -0.124939   \n",
       "536.wav-1  0.202728  0.327850  0.255005  0.047241 -0.154510 -0.250366   \n",
       "536.wav-2 -0.012299 -0.049011 -0.020020 -0.021484 -0.052399  0.031647   \n",
       "\n",
       "              44098     44099  \n",
       "1.wav-1    0.033020  0.035828  \n",
       "1.wav-2   -0.027130 -0.050720  \n",
       "10.wav-1  -0.021179 -0.002472  \n",
       "10.wav-2  -0.416443 -0.549744  \n",
       "100.wav-1  0.095093  0.029449  \n",
       "...             ...       ...  \n",
       "533.wav-2  0.133972  0.089752  \n",
       "535.wav-1  0.017151  0.013153  \n",
       "535.wav-2 -0.143036 -0.129272  \n",
       "536.wav-1 -0.125153  0.050232  \n",
       "536.wav-2  0.088928 -0.023102  \n",
       "\n",
       "[300 rows x 44100 columns]"
      ]
     },
     "execution_count": 3,
     "metadata": {},
     "output_type": "execute_result"
    }
   ],
   "source": [
    "max_val = np.max(np.abs(np.array(x_combined.values).flatten()))\n",
    "print (\"max_val\", max_val)\n",
    "x_combined /= max_val\n",
    "x_combined"
   ]
  },
  {
   "cell_type": "code",
   "execution_count": 17,
   "id": "lasting-stone",
   "metadata": {},
   "outputs": [],
   "source": [
    "input_len = 1000\n",
    "output_len = 100\n",
    "\n",
    "x_sequences = []\n",
    "y_sequences = []\n",
    "for x in range(20):\n",
    "    temp_x, temp_y = to_sequences_new(np.array(x_combined.iloc[x]), input_len = input_len, output_len = output_len, stride = 100)\n",
    "    x_sequences.append(temp_x)\n",
    "    y_sequences.append(temp_y)\n",
    "    \n",
    "X = np.concatenate(x_sequences, axis = 0)\n",
    "y = np.concatenate(y_sequences, axis = 0)\n",
    "trainX, testX, trainY, testY = train_test_split(X, y, test_size=0.10, random_state=42)\n",
    "\n",
    "trainX = np.reshape(trainX, (trainX.shape[0], trainX.shape[1], 1))\n",
    "testX = np.reshape(testX, (testX.shape[0], testX.shape[1], 1))"
   ]
  },
  {
   "cell_type": "code",
   "execution_count": 8,
   "id": "czech-third",
   "metadata": {},
   "outputs": [],
   "source": [
    "loaded_model = keras.models.load_model('models/model3')"
   ]
  },
  {
   "cell_type": "code",
   "execution_count": 12,
   "id": "specific-buyer",
   "metadata": {},
   "outputs": [
    {
     "data": {
      "text/plain": [
       "(1000, 1)"
      ]
     },
     "execution_count": 12,
     "metadata": {},
     "output_type": "execute_result"
    }
   ],
   "source": [
    "trainX[0].shape"
   ]
  },
  {
   "cell_type": "code",
   "execution_count": 18,
   "id": "front-folks",
   "metadata": {},
   "outputs": [],
   "source": [
    "xPred0 = predict_song(loaded_model, 32768, trainX[1], 10, include_x = True, input_size = 1000, output_size = 100)"
   ]
  },
  {
   "cell_type": "code",
   "execution_count": 19,
   "id": "assumed-excuse",
   "metadata": {},
   "outputs": [
    {
     "data": {
      "text/html": [
       "\n",
       "                <audio  controls=\"controls\" >\n",
       "                    <source src=\"data:audio/wav;base64,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\" type=\"audio/wav\" />\n",
       "                    Your browser does not support the audio element.\n",
       "                </audio>\n",
       "              "
      ],
      "text/plain": [
       "<IPython.lib.display.Audio object>"
      ]
     },
     "execution_count": 19,
     "metadata": {},
     "output_type": "execute_result"
    }
   ],
   "source": [
    "samplerate= 44100 // 10\n",
    "IPython.display.Audio(xPred0.astype(int), rate=samplerate)"
   ]
  },
  {
   "cell_type": "code",
   "execution_count": 24,
   "id": "virtual-bermuda",
   "metadata": {},
   "outputs": [
    {
     "data": {
      "text/plain": [
       "[<matplotlib.lines.Line2D at 0x14480fa10>]"
      ]
     },
     "execution_count": 24,
     "metadata": {},
     "output_type": "execute_result"
    },
    {
     "data": {
      "image/png": "[encoded data removed]",
      "text/plain": [
       "<Figure size 432x288 with 1 Axes>"
      ]
     },
     "metadata": {
      "needs_background": "light"
     },
     "output_type": "display_data"
    }
   ],
   "source": [
    "plt.plot(loaded_model.predict(np.array([trainX[1]]))[0])"
   ]
  },
  {
   "cell_type": "code",
   "execution_count": 25,
   "id": "immune-duplicate",
   "metadata": {},
   "outputs": [
    {
     "data": {
      "text/plain": [
       "[<matplotlib.lines.Line2D at 0x1447d7f90>]"
      ]
     },
     "execution_count": 25,
     "metadata": {},
     "output_type": "execute_result"
    },
    {
     "data": {
      "image/png": "[encoded data removed]",
      "text/plain": [
       "<Figure size 432x288 with 1 Axes>"
      ]
     },
     "metadata": {
      "needs_background": "light"
     },
     "output_type": "display_data"
    }
   ],
   "source": [
    "plt.plot(trainY[1])"
   ]
  },
  {
   "cell_type": "code",
   "execution_count": 21,
   "id": "intensive-point",
   "metadata": {},
   "outputs": [
    {
     "data": {
      "text/plain": [
       "[<matplotlib.lines.Line2D at 0x1448b0490>]"
      ]
     },
     "execution_count": 21,
     "metadata": {},
     "output_type": "execute_result"
    },
    {
     "data": {
      "image/png": "[encoded data removed]",
      "text/plain": [
       "<Figure size 432x288 with 1 Axes>"
      ]
     },
     "metadata": {
      "needs_background": "light"
     },
     "output_type": "display_data"
    }
   ],
   "source": [
    "plt.plot(xPred0[0:5000])"
   ]
  },
  {
   "cell_type": "code",
   "execution_count": 17,
   "id": "configured-poland",
   "metadata": {},
   "outputs": [],
   "source": [
    "wavfile.write(\"model2-output.wav\", samplerate, xPred0.astype(np.int16))"
   ]
  },
  {
   "cell_type": "code",
   "execution_count": 56,
   "id": "moderate-solomon",
   "metadata": {},
   "outputs": [
    {
     "data": {
      "text/plain": [
       "array([  -46, -1903, -2026, ...,  -310,   227,   307])"
      ]
     },
     "execution_count": 56,
     "metadata": {},
     "output_type": "execute_result"
    }
   ],
   "source": [
    "xPred0.astype(int)"
   ]
  },
  {
   "cell_type": "code",
   "execution_count": null,
   "id": "detailed-alcohol",
   "metadata": {},
   "outputs": [],
   "source": []
  }
 ],
 "metadata": {
  "kernelspec": {
   "display_name": "Python 3",
   "language": "python",
   "name": "python3"
  },
  "language_info": {
   "codemirror_mode": {
    "name": "ipython",
    "version": 3
   },
   "file_extension": ".py",
   "mimetype": "text/x-python",
   "name": "python",
   "nbconvert_exporter": "python",
   "pygments_lexer": "ipython3",
   "version": "3.7.10"
  }
 },
 "nbformat": 4,
 "nbformat_minor": 5
}
