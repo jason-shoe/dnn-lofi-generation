{
 "cells": [
  {
   "cell_type": "code",
   "execution_count": 1,
   "metadata": {},
   "outputs": [],
   "source": [
    "import IPython\n",
    "import pandas as pd\n",
    "from scipy.io import wavfile\n",
    "import matplotlib.pyplot as plt\n",
    "import numpy as np\n",
    "import tensorflow as tf\n",
    "from tensorflow import keras\n",
    "from tensorflow.keras import layers\n",
    "import os"
   ]
  },
  {
   "cell_type": "code",
   "execution_count": 5,
   "metadata": {},
   "outputs": [],
   "source": [
    "new_samplerate = 4410"
   ]
  },
  {
   "cell_type": "markdown",
   "metadata": {},
   "source": [
    "# Combining into 1 CSV"
   ]
  },
  {
   "cell_type": "code",
   "execution_count": 6,
   "metadata": {},
   "outputs": [
    {
     "name": "stdout",
     "output_type": "stream",
     "text": [
      ".DS_Store\n",
      "not added\n",
      "xData0-50-10.csv\n",
      "xData1-50-10.csv\n",
      "xData10-50-10.csv\n",
      "xData11-50-10.csv\n",
      "xData13-50-10.csv\n",
      "xData14-50-10.csv\n",
      "xData2-50-10.csv\n",
      "xData3-50-10.csv\n",
      "xData4-50-10.csv\n",
      "xData5-50-10.csv\n",
      "xData6-50-10.csv\n",
      "xData7-50-10.csv\n",
      "xData8-50-10.csv\n",
      "xData9-50-10.csv\n",
      "yData0-50-10.csv\n",
      "yData1-50-10.csv\n",
      "yData10-50-10.csv\n",
      "yData11-50-10.csv\n",
      "yData13-50-10.csv\n",
      "yData14-50-10.csv\n",
      "yData2-50-10.csv\n",
      "yData3-50-10.csv\n",
      "yData4-50-10.csv\n",
      "yData5-50-10.csv\n",
      "yData6-50-10.csv\n",
      "yData7-50-10.csv\n",
      "yData8-50-10.csv\n",
      "yData9-50-10.csv\n"
     ]
    }
   ],
   "source": [
    "directory = '../../data/wav_csvs/downsample'\n",
    "x_files = []\n",
    "y_files = []\n",
    "for filename in os.listdir(directory):\n",
    "    print(filename)\n",
    "    if('xData' in filename and '-10.csv' in filename):\n",
    "        x_files.append(pd.read_csv(directory + '/' + filename, index_col=0))\n",
    "    elif('yData' in filename and '-10.csv' in filename):\n",
    "        y_files.append(pd.read_csv(directory + '/' + filename, index_col=0))\n",
    "    else:\n",
    "        print('not added')"
   ]
  },
  {
   "cell_type": "code",
   "execution_count": 7,
   "metadata": {},
   "outputs": [],
   "source": [
    "x_combined = pd.concat(x_files)\n",
    "y_combined = pd.concat(y_files)"
   ]
  },
  {
   "cell_type": "code",
   "execution_count": 11,
   "metadata": {},
   "outputs": [],
   "source": [
    "xy_combined = pd.concat([x_combined, y_combined], axis = 1)"
   ]
  },
  {
   "cell_type": "code",
   "execution_count": 12,
   "metadata": {},
   "outputs": [
    {
     "data": {
      "text/plain": [
       "(1400, 66150)"
      ]
     },
     "execution_count": 12,
     "metadata": {},
     "output_type": "execute_result"
    }
   ],
   "source": [
    "xy_combined.shape"
   ]
  },
  {
   "cell_type": "code",
   "execution_count": 16,
   "metadata": {},
   "outputs": [
    {
     "name": "stdout",
     "output_type": "stream",
     "text": [
      "(1400, 13230)\n",
      "(1400, 13230)\n",
      "(1400, 13230)\n",
      "(1400, 13230)\n",
      "(1400, 13230)\n"
     ]
    }
   ],
   "source": [
    "temp_list = []\n",
    "for x in range(0, len(xy_combined.iloc[0]), 3 * new_samplerate):\n",
    "    temp_list.append(xy_combined.iloc[:,x:x + 3 * new_samplerate])\n",
    "    print(temp_list[-1].shape)"
   ]
  },
  {
   "cell_type": "code",
   "execution_count": 31,
   "metadata": {},
   "outputs": [],
   "source": [
    "for x in range(5):\n",
    "    temp_list[x].columns = np.arange(3 * new_samplerate)"
   ]
  },
  {
   "cell_type": "code",
   "execution_count": 33,
   "metadata": {},
   "outputs": [],
   "source": [
    "xy_combined = pd.concat(temp_list, axis = 0, ignore_index = True)"
   ]
  },
  {
   "cell_type": "markdown",
   "metadata": {},
   "source": [
    "## Data Sequencing\n",
    "\n",
    "<img src=\"https://www.tensorflow.org/tutorials/structured_data/images/lstm_many_window.png\" />"
   ]
  },
  {
   "cell_type": "code",
   "execution_count": 34,
   "metadata": {},
   "outputs": [],
   "source": [
    "def split_sequence(sequence, windowsize , num_elements, num_segments):\n",
    "    X_split, y_split = np.zeros(shape=(num_segments, windowsize)), np.zeros(shape=(num_segments, windowsize))\n",
    "    for i in range(0, num_segments):\n",
    "        # find the end of this pattern\n",
    "        end_ix = i * windowsize + windowsize\n",
    "        end_iy = end_ix + windowsize\n",
    "        X_split[i, :] = sequence[i * windowsize : end_ix]\n",
    "        y_split[i, :] = sequence[end_ix:end_iy]\n",
    "    return X_split, y_split"
   ]
  },
  {
   "cell_type": "code",
   "execution_count": 35,
   "metadata": {},
   "outputs": [],
   "source": [
    "# number samples for every input\n",
    "windowsize = new_samplerate // 10\n",
    "\n",
    "# number of inputs\n",
    "num_segments = len(xy_combined.iloc[0]) // windowsize - 1\n",
    "num_elements = len(xy_combined.iloc[0]) - 2 * windowsize"
   ]
  },
  {
   "cell_type": "code",
   "execution_count": 36,
   "metadata": {},
   "outputs": [],
   "source": [
    "# initialzing the empty arrays\n",
    "\n",
    "# (# of datapoints, # of inputs, samples per input)\n",
    "x_shape = (len(xy_combined), num_segments, windowsize)\n",
    "# (# of datapoints, # of inputs, samples per output)\n",
    "y_shape = (len(xy_combined), num_segments, windowsize)\n",
    "\n",
    "X = np.zeros(shape=x_shape)\n",
    "y = np.zeros(shape=y_shape)"
   ]
  },
  {
   "cell_type": "code",
   "execution_count": 37,
   "metadata": {
    "scrolled": true
   },
   "outputs": [
    {
     "name": "stdout",
     "output_type": "stream",
     "text": [
      "0.00  -  0\n",
      "0.01  -  14\n",
      "0.02  -  28\n",
      "0.03  -  42\n",
      "0.04  -  56\n",
      "0.05  -  70\n",
      "0.06  -  84\n",
      "0.07  -  98\n",
      "0.08  -  112\n",
      "0.09  -  126\n",
      "0.10  -  140\n",
      "0.11  -  154\n",
      "0.12  -  168\n",
      "0.13  -  182\n",
      "0.14  -  196\n",
      "0.15  -  210\n",
      "0.16  -  224\n",
      "0.17  -  238\n",
      "0.18  -  252\n",
      "0.19  -  266\n",
      "0.20  -  280\n",
      "0.21  -  294\n",
      "0.22  -  308\n",
      "0.23  -  322\n",
      "0.24  -  336\n",
      "0.25  -  350\n",
      "0.26  -  364\n",
      "0.27  -  378\n",
      "0.28  -  392\n",
      "0.29  -  406\n",
      "0.30  -  420\n",
      "0.31  -  434\n",
      "0.32  -  448\n",
      "0.33  -  462\n",
      "0.34  -  476\n",
      "0.35  -  490\n",
      "0.36  -  504\n",
      "0.37  -  518\n",
      "0.38  -  532\n",
      "0.39  -  546\n",
      "0.40  -  560\n",
      "0.41  -  574\n",
      "0.42  -  588\n",
      "0.43  -  602\n",
      "0.44  -  616\n",
      "0.45  -  630\n",
      "0.46  -  644\n",
      "0.47  -  658\n",
      "0.48  -  672\n",
      "0.49  -  686\n",
      "0.50  -  700\n",
      "0.51  -  714\n",
      "0.52  -  728\n",
      "0.53  -  742\n",
      "0.54  -  756\n",
      "0.55  -  770\n",
      "0.56  -  784\n",
      "0.57  -  798\n",
      "0.58  -  812\n",
      "0.59  -  826\n",
      "0.60  -  840\n",
      "0.61  -  854\n",
      "0.62  -  868\n",
      "0.63  -  882\n",
      "0.64  -  896\n",
      "0.65  -  910\n",
      "0.66  -  924\n",
      "0.67  -  938\n",
      "0.68  -  952\n",
      "0.69  -  966\n",
      "0.70  -  980\n",
      "0.71  -  994\n",
      "0.72  -  1008\n",
      "0.73  -  1022\n",
      "0.74  -  1036\n",
      "0.75  -  1050\n",
      "0.76  -  1064\n",
      "0.77  -  1078\n",
      "0.78  -  1092\n",
      "0.79  -  1106\n",
      "0.80  -  1120\n",
      "0.81  -  1134\n",
      "0.82  -  1148\n",
      "0.83  -  1162\n",
      "0.84  -  1176\n",
      "0.85  -  1190\n",
      "0.86  -  1204\n",
      "0.87  -  1218\n",
      "0.88  -  1232\n",
      "0.89  -  1246\n",
      "0.90  -  1260\n",
      "0.91  -  1274\n",
      "0.92  -  1288\n",
      "0.93  -  1302\n",
      "0.94  -  1316\n",
      "0.95  -  1330\n",
      "0.96  -  1344\n",
      "0.97  -  1358\n",
      "0.98  -  1372\n",
      "0.99  -  1386\n",
      "CPU times: user 9.87 s, sys: 466 ms, total: 10.3 s\n",
      "Wall time: 11.8 s\n"
     ]
    }
   ],
   "source": [
    "%%time\n",
    "for index in range(len(x_combined)):\n",
    "    if(index % int(len(x_combined) / 100) == 0):\n",
    "        print(\"%.2f\" % (index/len(x_combined)), \" - \", index)\n",
    "    X[index, :, :], y[index, :, :] = split_sequence(xy_combined.iloc[index], windowsize, num_elements, num_segments)"
   ]
  },
  {
   "cell_type": "code",
   "execution_count": 38,
   "metadata": {},
   "outputs": [],
   "source": [
    "train_size = int(0.8 * len(X))\n",
    "\n",
    "X_train = X[:train_size,:,:]\n",
    "y_train = y[:train_size,:,:]\n",
    "\n",
    "X_test = X[train_size:,:,:]\n",
    "y_test = y[train_size:,:,:]"
   ]
  },
  {
   "cell_type": "code",
   "execution_count": 39,
   "metadata": {},
   "outputs": [
    {
     "data": {
      "text/plain": [
       "(5600, 29, 441)"
      ]
     },
     "execution_count": 39,
     "metadata": {},
     "output_type": "execute_result"
    }
   ],
   "source": [
    "X_train.shape"
   ]
  },
  {
   "cell_type": "markdown",
   "metadata": {},
   "source": [
    "## Creating the Model"
   ]
  },
  {
   "cell_type": "code",
   "execution_count": 91,
   "metadata": {},
   "outputs": [],
   "source": [
    "# https://gitlab.com/michael-lewis/wav-nn/-/blob/master/wav-nn.ipynb\n",
    "def create_model(input_dim, output_dim):\n",
    "    \n",
    "    model = keras.Sequential()\n",
    "    # Add an Embedding layer expecting input vocab of size 1000, and\n",
    "    # output embedding dimension of size 64.\n",
    "#     model.add(layers.Embedding(input_dim=input_dim, output_dim=64))\n",
    "\n",
    "#     # Add a LSTM layer with 128 internal units.\n",
    "    model.add(tf.keras.layers.Conv1D(filters=32, kernel_size=5,\n",
    "            strides=1, padding=\"causal\", activation=\"relu\", input_shape=input_dim[1:]))\n",
    "\n",
    "    \n",
    "    \n",
    "    # https://www.tensorflow.org/tutorials/structured_data/time_series\n",
    "    \n",
    "    # Shape [batch, time, features] => [batch, time, lstm_units]\n",
    "#     model.add(layers.LSTM(1, return_sequences=True))\n",
    "    \n",
    "    # Shape => [batch, time, features]\n",
    "    model.add(layers.Dense(output_dim[2]))\n",
    "    \n",
    "    return model"
   ]
  },
  {
   "cell_type": "code",
   "execution_count": 92,
   "metadata": {},
   "outputs": [],
   "source": [
    "model = create_model(X_train.shape, y_train.shape)"
   ]
  },
  {
   "cell_type": "code",
   "execution_count": 118,
   "metadata": {
    "scrolled": true
   },
   "outputs": [
    {
     "name": "stdout",
     "output_type": "stream",
     "text": [
      "Epoch 1/200\n",
      "2/2 [==============================] - 0s 130ms/step - loss: 37615020.0000 - val_loss: 57302388.0000\n",
      "Epoch 2/200\n",
      "2/2 [==============================] - 0s 28ms/step - loss: 43126860.0000 - val_loss: 64558140.0000\n",
      "Epoch 3/200\n",
      "2/2 [==============================] - 0s 32ms/step - loss: 42805476.0000 - val_loss: 53376576.0000\n",
      "Epoch 4/200\n",
      "2/2 [==============================] - 0s 26ms/step - loss: 35170588.0000 - val_loss: 51843476.0000\n",
      "Epoch 5/200\n",
      "2/2 [==============================] - 0s 21ms/step - loss: 37230928.0000 - val_loss: 51954068.0000\n",
      "Epoch 6/200\n",
      "2/2 [==============================] - 0s 18ms/step - loss: 35479172.0000 - val_loss: 48709932.0000\n",
      "Epoch 7/200\n",
      "2/2 [==============================] - 0s 28ms/step - loss: 32704804.0000 - val_loss: 50294800.0000\n",
      "Epoch 8/200\n",
      "2/2 [==============================] - 0s 26ms/step - loss: 33095708.0000 - val_loss: 50841028.0000\n",
      "Epoch 9/200\n",
      "2/2 [==============================] - 0s 19ms/step - loss: 31839116.0000 - val_loss: 49239116.0000\n",
      "Epoch 10/200\n",
      "2/2 [==============================] - 0s 35ms/step - loss: 30273064.0000 - val_loss: 49308524.0000\n",
      "Epoch 11/200\n",
      "2/2 [==============================] - 0s 29ms/step - loss: 30120206.0000 - val_loss: 49731908.0000\n",
      "Epoch 12/200\n",
      "2/2 [==============================] - 0s 33ms/step - loss: 30003262.0000 - val_loss: 49305776.0000\n",
      "Epoch 13/200\n",
      "2/2 [==============================] - 0s 29ms/step - loss: 28911480.0000 - val_loss: 50265424.0000\n",
      "Epoch 14/200\n",
      "2/2 [==============================] - 0s 26ms/step - loss: 28626142.0000 - val_loss: 51044524.0000\n",
      "Epoch 15/200\n",
      "2/2 [==============================] - 0s 28ms/step - loss: 28364350.0000 - val_loss: 50438572.0000\n",
      "Epoch 16/200\n",
      "2/2 [==============================] - 0s 26ms/step - loss: 27802430.0000 - val_loss: 50109264.0000\n",
      "Epoch 17/200\n",
      "2/2 [==============================] - 0s 24ms/step - loss: 27860812.0000 - val_loss: 49864108.0000\n",
      "Epoch 18/200\n",
      "2/2 [==============================] - 0s 45ms/step - loss: 27406042.0000 - val_loss: 50088924.0000\n",
      "Epoch 19/200\n",
      "2/2 [==============================] - 0s 24ms/step - loss: 27152076.0000 - val_loss: 50784364.0000\n",
      "Epoch 20/200\n",
      "2/2 [==============================] - 0s 29ms/step - loss: 27117508.0000 - val_loss: 51081200.0000\n",
      "Epoch 21/200\n",
      "2/2 [==============================] - 0s 30ms/step - loss: 26861980.0000 - val_loss: 51226996.0000\n",
      "Epoch 22/200\n",
      "2/2 [==============================] - 0s 34ms/step - loss: 26727306.0000 - val_loss: 51224428.0000\n",
      "Epoch 23/200\n",
      "2/2 [==============================] - 0s 34ms/step - loss: 26637260.0000 - val_loss: 51490064.0000\n",
      "Epoch 24/200\n",
      "2/2 [==============================] - 0s 29ms/step - loss: 26541422.0000 - val_loss: 51820300.0000\n",
      "Epoch 25/200\n",
      "2/2 [==============================] - 0s 33ms/step - loss: 26381070.0000 - val_loss: 51842420.0000\n",
      "Epoch 26/200\n",
      "2/2 [==============================] - 0s 35ms/step - loss: 26322306.0000 - val_loss: 51970308.0000\n",
      "Epoch 27/200\n",
      "2/2 [==============================] - 0s 28ms/step - loss: 26253450.0000 - val_loss: 52317724.0000\n",
      "Epoch 28/200\n",
      "2/2 [==============================] - 0s 35ms/step - loss: 26192048.0000 - val_loss: 52631604.0000\n",
      "Epoch 29/200\n",
      "2/2 [==============================] - 0s 33ms/step - loss: 26102730.0000 - val_loss: 52546800.0000\n",
      "Epoch 30/200\n",
      "2/2 [==============================] - 0s 28ms/step - loss: 26087632.0000 - val_loss: 52498860.0000\n",
      "Epoch 31/200\n",
      "2/2 [==============================] - 0s 24ms/step - loss: 26008614.0000 - val_loss: 52890288.0000\n",
      "Epoch 32/200\n",
      "2/2 [==============================] - 0s 23ms/step - loss: 25990594.0000 - val_loss: 53342260.0000\n",
      "Epoch 33/200\n",
      "2/2 [==============================] - 0s 33ms/step - loss: 25939560.0000 - val_loss: 53615764.0000\n",
      "Epoch 34/200\n",
      "2/2 [==============================] - 0s 23ms/step - loss: 25952100.0000 - val_loss: 53482880.0000\n",
      "Epoch 35/200\n",
      "2/2 [==============================] - 0s 35ms/step - loss: 25868264.0000 - val_loss: 53595724.0000\n",
      "Epoch 36/200\n",
      "2/2 [==============================] - 0s 32ms/step - loss: 25865746.0000 - val_loss: 53832764.0000\n",
      "Epoch 37/200\n",
      "2/2 [==============================] - 0s 31ms/step - loss: 25920792.0000 - val_loss: 54124204.0000\n",
      "Epoch 38/200\n",
      "2/2 [==============================] - 0s 39ms/step - loss: 25822298.0000 - val_loss: 54386764.0000\n",
      "Epoch 39/200\n",
      "2/2 [==============================] - 0s 32ms/step - loss: 25960798.0000 - val_loss: 54416320.0000\n",
      "Epoch 40/200\n",
      "2/2 [==============================] - 0s 31ms/step - loss: 26083432.0000 - val_loss: 54585632.0000\n",
      "Epoch 41/200\n",
      "2/2 [==============================] - 0s 32ms/step - loss: 25991074.0000 - val_loss: 54713076.0000\n",
      "Epoch 42/200\n",
      "2/2 [==============================] - 0s 31ms/step - loss: 25997010.0000 - val_loss: 54569536.0000\n",
      "Epoch 43/200\n",
      "2/2 [==============================] - 0s 37ms/step - loss: 26202662.0000 - val_loss: 54698084.0000\n",
      "Epoch 44/200\n",
      "2/2 [==============================] - 0s 30ms/step - loss: 26112140.0000 - val_loss: 54896052.0000\n",
      "Epoch 45/200\n",
      "2/2 [==============================] - 0s 30ms/step - loss: 26053650.0000 - val_loss: 54756844.0000\n",
      "Epoch 46/200\n",
      "2/2 [==============================] - 0s 40ms/step - loss: 25980018.0000 - val_loss: 54694148.0000\n",
      "Epoch 47/200\n",
      "2/2 [==============================] - 0s 27ms/step - loss: 25991728.0000 - val_loss: 54933076.0000\n",
      "Epoch 48/200\n",
      "2/2 [==============================] - 0s 30ms/step - loss: 25998762.0000 - val_loss: 55079360.0000\n",
      "Epoch 49/200\n",
      "2/2 [==============================] - 0s 34ms/step - loss: 26020408.0000 - val_loss: 54944004.0000\n",
      "Epoch 50/200\n",
      "2/2 [==============================] - 0s 30ms/step - loss: 25883146.0000 - val_loss: 55327740.0000\n",
      "Epoch 51/200\n",
      "2/2 [==============================] - 0s 26ms/step - loss: 26226294.0000 - val_loss: 54881644.0000\n",
      "Epoch 52/200\n",
      "2/2 [==============================] - 0s 25ms/step - loss: 26207730.0000 - val_loss: 54881628.0000\n",
      "Epoch 53/200\n",
      "2/2 [==============================] - 0s 26ms/step - loss: 26095296.0000 - val_loss: 55570336.0000\n",
      "Epoch 54/200\n",
      "2/2 [==============================] - 0s 35ms/step - loss: 26534092.0000 - val_loss: 55261612.0000\n",
      "Epoch 55/200\n",
      "2/2 [==============================] - 0s 21ms/step - loss: 26066890.0000 - val_loss: 55241876.0000\n",
      "Epoch 56/200\n",
      "2/2 [==============================] - 0s 22ms/step - loss: 26138648.0000 - val_loss: 55304144.0000\n",
      "Epoch 57/200\n",
      "2/2 [==============================] - 0s 25ms/step - loss: 26085986.0000 - val_loss: 55612172.0000\n",
      "Epoch 58/200\n",
      "2/2 [==============================] - 0s 35ms/step - loss: 26040562.0000 - val_loss: 55820000.0000\n",
      "Epoch 59/200\n",
      "2/2 [==============================] - 0s 30ms/step - loss: 26210636.0000 - val_loss: 55600624.0000\n",
      "Epoch 60/200\n",
      "2/2 [==============================] - 0s 32ms/step - loss: 26043246.0000 - val_loss: 55608336.0000\n",
      "Epoch 61/200\n",
      "2/2 [==============================] - 0s 27ms/step - loss: 26168500.0000 - val_loss: 55453732.0000\n",
      "Epoch 62/200\n",
      "2/2 [==============================] - 0s 30ms/step - loss: 26201454.0000 - val_loss: 55925188.0000\n",
      "Epoch 63/200\n",
      "2/2 [==============================] - 0s 26ms/step - loss: 26358424.0000 - val_loss: 56014820.0000\n",
      "Epoch 64/200\n",
      "2/2 [==============================] - 0s 21ms/step - loss: 26617860.0000 - val_loss: 55802452.0000\n",
      "Epoch 65/200\n",
      "2/2 [==============================] - 0s 19ms/step - loss: 26432042.0000 - val_loss: 55870836.0000\n",
      "Epoch 66/200\n",
      "2/2 [==============================] - 0s 22ms/step - loss: 26231846.0000 - val_loss: 55917280.0000\n",
      "Epoch 67/200\n",
      "2/2 [==============================] - 0s 24ms/step - loss: 26589188.0000 - val_loss: 55771276.0000\n",
      "Epoch 68/200\n",
      "2/2 [==============================] - 0s 22ms/step - loss: 26274262.0000 - val_loss: 55339092.0000\n",
      "Epoch 69/200\n",
      "2/2 [==============================] - 0s 28ms/step - loss: 26934064.0000 - val_loss: 55006736.0000\n",
      "Epoch 70/200\n",
      "2/2 [==============================] - 0s 37ms/step - loss: 26377790.0000 - val_loss: 55752656.0000\n",
      "Epoch 71/200\n",
      "2/2 [==============================] - 0s 28ms/step - loss: 27488422.0000 - val_loss: 55736380.0000\n",
      "Epoch 72/200\n",
      "2/2 [==============================] - 0s 32ms/step - loss: 27006668.0000 - val_loss: 54848004.0000\n",
      "Epoch 73/200\n"
     ]
    },
    {
     "name": "stdout",
     "output_type": "stream",
     "text": [
      "2/2 [==============================] - 0s 28ms/step - loss: 27004620.0000 - val_loss: 54756028.0000\n",
      "Epoch 74/200\n",
      "2/2 [==============================] - 0s 26ms/step - loss: 27283804.0000 - val_loss: 54724896.0000\n",
      "Epoch 75/200\n",
      "2/2 [==============================] - 0s 22ms/step - loss: 26539648.0000 - val_loss: 54686304.0000\n",
      "Epoch 76/200\n",
      "2/2 [==============================] - 0s 28ms/step - loss: 26518632.0000 - val_loss: 54845600.0000\n",
      "Epoch 77/200\n",
      "2/2 [==============================] - 0s 35ms/step - loss: 26631658.0000 - val_loss: 54470528.0000\n",
      "Epoch 78/200\n",
      "2/2 [==============================] - 0s 24ms/step - loss: 26416796.0000 - val_loss: 54052828.0000\n",
      "Epoch 79/200\n",
      "2/2 [==============================] - 0s 21ms/step - loss: 26250330.0000 - val_loss: 54162620.0000\n",
      "Epoch 80/200\n",
      "2/2 [==============================] - 0s 21ms/step - loss: 26276636.0000 - val_loss: 54452140.0000\n",
      "Epoch 81/200\n",
      "2/2 [==============================] - 0s 23ms/step - loss: 26214590.0000 - val_loss: 54919452.0000\n",
      "Epoch 82/200\n",
      "2/2 [==============================] - 0s 25ms/step - loss: 26146102.0000 - val_loss: 55050556.0000\n",
      "Epoch 83/200\n",
      "2/2 [==============================] - 0s 17ms/step - loss: 26174540.0000 - val_loss: 54763684.0000\n",
      "Epoch 84/200\n",
      "2/2 [==============================] - 0s 38ms/step - loss: 25975804.0000 - val_loss: 54565076.0000\n",
      "Epoch 85/200\n",
      "2/2 [==============================] - 0s 22ms/step - loss: 26112862.0000 - val_loss: 55060656.0000\n",
      "Epoch 86/200\n",
      "2/2 [==============================] - 0s 22ms/step - loss: 25984576.0000 - val_loss: 55058220.0000\n",
      "Epoch 87/200\n",
      "2/2 [==============================] - 0s 22ms/step - loss: 25976438.0000 - val_loss: 54782304.0000\n",
      "Epoch 88/200\n",
      "2/2 [==============================] - 0s 23ms/step - loss: 25881624.0000 - val_loss: 54545420.0000\n",
      "Epoch 89/200\n",
      "2/2 [==============================] - 0s 28ms/step - loss: 25954120.0000 - val_loss: 54767100.0000\n",
      "Epoch 90/200\n",
      "2/2 [==============================] - ETA: 0s - loss: 25881280.00 - 0s 31ms/step - loss: 26008664.0000 - val_loss: 55875856.0000\n",
      "Epoch 91/200\n",
      "2/2 [==============================] - 0s 34ms/step - loss: 25810006.0000 - val_loss: 55859764.0000\n",
      "Epoch 92/200\n",
      "2/2 [==============================] - 0s 26ms/step - loss: 25941538.0000 - val_loss: 55426944.0000\n",
      "Epoch 93/200\n",
      "2/2 [==============================] - 0s 28ms/step - loss: 25726376.0000 - val_loss: 55702668.0000\n",
      "Epoch 94/200\n",
      "2/2 [==============================] - 0s 30ms/step - loss: 25667702.0000 - val_loss: 55731996.0000\n",
      "Epoch 95/200\n",
      "2/2 [==============================] - 0s 33ms/step - loss: 25817886.0000 - val_loss: 55736212.0000\n",
      "Epoch 96/200\n",
      "2/2 [==============================] - 0s 23ms/step - loss: 25640136.0000 - val_loss: 56115404.0000\n",
      "Epoch 97/200\n",
      "2/2 [==============================] - 0s 24ms/step - loss: 25678146.0000 - val_loss: 55933132.0000\n",
      "Epoch 98/200\n",
      "2/2 [==============================] - 0s 24ms/step - loss: 25615908.0000 - val_loss: 56087692.0000\n",
      "Epoch 99/200\n",
      "2/2 [==============================] - 0s 25ms/step - loss: 25672598.0000 - val_loss: 56305164.0000\n",
      "Epoch 100/200\n",
      "2/2 [==============================] - 0s 24ms/step - loss: 25677426.0000 - val_loss: 56284656.0000\n",
      "Epoch 101/200\n",
      "2/2 [==============================] - 0s 29ms/step - loss: 25673244.0000 - val_loss: 56249140.0000\n",
      "Epoch 102/200\n",
      "2/2 [==============================] - 0s 23ms/step - loss: 25765906.0000 - val_loss: 56551652.0000\n",
      "Epoch 103/200\n",
      "2/2 [==============================] - 0s 20ms/step - loss: 25811342.0000 - val_loss: 56853668.0000\n",
      "Epoch 104/200\n",
      "2/2 [==============================] - 0s 33ms/step - loss: 25807816.0000 - val_loss: 56861844.0000\n",
      "Epoch 105/200\n",
      "2/2 [==============================] - 0s 23ms/step - loss: 26200840.0000 - val_loss: 56377472.0000\n",
      "Epoch 106/200\n",
      "2/2 [==============================] - 0s 25ms/step - loss: 25975338.0000 - val_loss: 56612924.0000\n",
      "Epoch 107/200\n",
      "2/2 [==============================] - 0s 31ms/step - loss: 26049162.0000 - val_loss: 56884996.0000\n",
      "Epoch 108/200\n",
      "2/2 [==============================] - 0s 24ms/step - loss: 25856734.0000 - val_loss: 56448724.0000\n",
      "Epoch 109/200\n",
      "2/2 [==============================] - 0s 24ms/step - loss: 26237422.0000 - val_loss: 56637932.0000\n",
      "Epoch 110/200\n",
      "2/2 [==============================] - 0s 27ms/step - loss: 26244132.0000 - val_loss: 57030196.0000\n",
      "Epoch 111/200\n",
      "2/2 [==============================] - 0s 27ms/step - loss: 26473400.0000 - val_loss: 56133164.0000\n",
      "Epoch 112/200\n",
      "2/2 [==============================] - 0s 23ms/step - loss: 26207016.0000 - val_loss: 56129108.0000\n",
      "Epoch 113/200\n",
      "2/2 [==============================] - 0s 26ms/step - loss: 26402982.0000 - val_loss: 56905460.0000\n",
      "Epoch 114/200\n",
      "2/2 [==============================] - 0s 21ms/step - loss: 26468438.0000 - val_loss: 56543360.0000\n",
      "Epoch 115/200\n",
      "2/2 [==============================] - 0s 31ms/step - loss: 26553250.0000 - val_loss: 55929076.0000\n",
      "Epoch 116/200\n",
      "2/2 [==============================] - 0s 27ms/step - loss: 26599504.0000 - val_loss: 56388428.0000\n",
      "Epoch 117/200\n",
      "2/2 [==============================] - 0s 29ms/step - loss: 26737860.0000 - val_loss: 56096272.0000\n",
      "Epoch 118/200\n",
      "2/2 [==============================] - 0s 27ms/step - loss: 26917542.0000 - val_loss: 55351520.0000\n",
      "Epoch 119/200\n",
      "2/2 [==============================] - 0s 30ms/step - loss: 26499422.0000 - val_loss: 55054924.0000\n",
      "Epoch 120/200\n",
      "2/2 [==============================] - 0s 25ms/step - loss: 26436788.0000 - val_loss: 55294892.0000\n",
      "Epoch 121/200\n",
      "2/2 [==============================] - 0s 24ms/step - loss: 26520516.0000 - val_loss: 55889212.0000\n",
      "Epoch 122/200\n",
      "2/2 [==============================] - 0s 23ms/step - loss: 26435456.0000 - val_loss: 55087600.0000\n",
      "Epoch 123/200\n",
      "2/2 [==============================] - 0s 24ms/step - loss: 25987612.0000 - val_loss: 54679004.0000\n",
      "Epoch 124/200\n",
      "2/2 [==============================] - 0s 24ms/step - loss: 26361950.0000 - val_loss: 54790272.0000\n",
      "Epoch 125/200\n",
      "2/2 [==============================] - 0s 37ms/step - loss: 25952450.0000 - val_loss: 55030796.0000\n",
      "Epoch 126/200\n",
      "2/2 [==============================] - 0s 27ms/step - loss: 26091854.0000 - val_loss: 54954316.0000\n",
      "Epoch 127/200\n",
      "2/2 [==============================] - 0s 25ms/step - loss: 26056036.0000 - val_loss: 55217616.0000\n",
      "Epoch 128/200\n",
      "2/2 [==============================] - 0s 24ms/step - loss: 26267260.0000 - val_loss: 55443772.0000\n",
      "Epoch 129/200\n",
      "2/2 [==============================] - 0s 34ms/step - loss: 26440722.0000 - val_loss: 55206272.0000\n",
      "Epoch 130/200\n",
      "2/2 [==============================] - 0s 29ms/step - loss: 25985230.0000 - val_loss: 55467108.0000\n",
      "Epoch 131/200\n",
      "2/2 [==============================] - 0s 31ms/step - loss: 26441340.0000 - val_loss: 55117556.0000\n",
      "Epoch 132/200\n",
      "2/2 [==============================] - 0s 23ms/step - loss: 25995524.0000 - val_loss: 55107900.0000\n",
      "Epoch 133/200\n",
      "2/2 [==============================] - 0s 23ms/step - loss: 26158132.0000 - val_loss: 55555660.0000\n",
      "Epoch 134/200\n",
      "2/2 [==============================] - 0s 22ms/step - loss: 26100222.0000 - val_loss: 55410672.0000\n",
      "Epoch 135/200\n",
      "2/2 [==============================] - 0s 24ms/step - loss: 25944886.0000 - val_loss: 55666068.0000\n",
      "Epoch 136/200\n",
      "2/2 [==============================] - 0s 23ms/step - loss: 25975172.0000 - val_loss: 56031092.0000\n",
      "Epoch 137/200\n",
      "2/2 [==============================] - 0s 24ms/step - loss: 26014524.0000 - val_loss: 55316752.0000\n",
      "Epoch 138/200\n",
      "2/2 [==============================] - 0s 27ms/step - loss: 25809412.0000 - val_loss: 55895840.0000\n",
      "Epoch 139/200\n",
      "2/2 [==============================] - 0s 26ms/step - loss: 25755952.0000 - val_loss: 56387156.0000\n",
      "Epoch 140/200\n",
      "2/2 [==============================] - 0s 22ms/step - loss: 25997070.0000 - val_loss: 55500428.0000\n",
      "Epoch 141/200\n",
      "2/2 [==============================] - 0s 19ms/step - loss: 25792878.0000 - val_loss: 55723596.0000\n",
      "Epoch 142/200\n",
      "2/2 [==============================] - 0s 20ms/step - loss: 25997508.0000 - val_loss: 55969716.0000\n",
      "Epoch 143/200\n",
      "2/2 [==============================] - 0s 23ms/step - loss: 25732190.0000 - val_loss: 55832348.0000\n",
      "Epoch 144/200\n",
      "2/2 [==============================] - 0s 21ms/step - loss: 26000094.0000 - val_loss: 56034924.0000\n"
     ]
    },
    {
     "name": "stdout",
     "output_type": "stream",
     "text": [
      "Epoch 145/200\n",
      "2/2 [==============================] - 0s 17ms/step - loss: 25819144.0000 - val_loss: 56109120.0000\n",
      "Epoch 146/200\n",
      "2/2 [==============================] - 0s 20ms/step - loss: 25776862.0000 - val_loss: 56155276.0000\n",
      "Epoch 147/200\n",
      "2/2 [==============================] - 0s 20ms/step - loss: 25967454.0000 - val_loss: 56436176.0000\n",
      "Epoch 148/200\n",
      "2/2 [==============================] - 0s 16ms/step - loss: 25673638.0000 - val_loss: 56620684.0000\n",
      "Epoch 149/200\n",
      "2/2 [==============================] - 0s 17ms/step - loss: 25992214.0000 - val_loss: 56279228.0000\n",
      "Epoch 150/200\n",
      "2/2 [==============================] - 0s 16ms/step - loss: 26106462.0000 - val_loss: 56667436.0000\n",
      "Epoch 151/200\n",
      "2/2 [==============================] - 0s 18ms/step - loss: 26324930.0000 - val_loss: 56621020.0000\n",
      "Epoch 152/200\n",
      "2/2 [==============================] - 0s 18ms/step - loss: 26326856.0000 - val_loss: 56511748.0000\n",
      "Epoch 153/200\n",
      "2/2 [==============================] - 0s 21ms/step - loss: 26891562.0000 - val_loss: 56117308.0000\n",
      "Epoch 154/200\n",
      "2/2 [==============================] - 0s 18ms/step - loss: 26924846.0000 - val_loss: 56352884.0000\n",
      "Epoch 155/200\n",
      "2/2 [==============================] - 0s 20ms/step - loss: 26771684.0000 - val_loss: 55972828.0000\n",
      "Epoch 156/200\n",
      "2/2 [==============================] - 0s 17ms/step - loss: 26926806.0000 - val_loss: 54971668.0000\n",
      "Epoch 157/200\n",
      "2/2 [==============================] - 0s 16ms/step - loss: 26609642.0000 - val_loss: 55629472.0000\n",
      "Epoch 158/200\n",
      "2/2 [==============================] - 0s 18ms/step - loss: 26427516.0000 - val_loss: 55614404.0000\n",
      "Epoch 159/200\n",
      "2/2 [==============================] - 0s 22ms/step - loss: 26333220.0000 - val_loss: 55341172.0000\n",
      "Epoch 160/200\n",
      "2/2 [==============================] - 0s 28ms/step - loss: 26363520.0000 - val_loss: 55492948.0000\n",
      "Epoch 161/200\n",
      "2/2 [==============================] - 0s 34ms/step - loss: 25985474.0000 - val_loss: 55505872.0000\n",
      "Epoch 162/200\n",
      "2/2 [==============================] - 0s 22ms/step - loss: 26757622.0000 - val_loss: 55087892.0000\n",
      "Epoch 163/200\n",
      "2/2 [==============================] - 0s 23ms/step - loss: 26243110.0000 - val_loss: 55920316.0000\n",
      "Epoch 164/200\n",
      "2/2 [==============================] - 0s 25ms/step - loss: 26234060.0000 - val_loss: 55510724.0000\n",
      "Epoch 165/200\n",
      "2/2 [==============================] - 0s 24ms/step - loss: 26420350.0000 - val_loss: 55079296.0000\n",
      "Epoch 166/200\n",
      "2/2 [==============================] - 0s 21ms/step - loss: 25961212.0000 - val_loss: 55481068.0000\n",
      "Epoch 167/200\n",
      "2/2 [==============================] - 0s 27ms/step - loss: 26381416.0000 - val_loss: 55522620.0000\n",
      "Epoch 168/200\n",
      "2/2 [==============================] - 0s 18ms/step - loss: 25915036.0000 - val_loss: 55909964.0000\n",
      "Epoch 169/200\n",
      "2/2 [==============================] - 0s 23ms/step - loss: 26121638.0000 - val_loss: 55959524.0000\n",
      "Epoch 170/200\n",
      "2/2 [==============================] - 0s 36ms/step - loss: 25919716.0000 - val_loss: 56053396.0000\n",
      "Epoch 171/200\n",
      "2/2 [==============================] - 0s 36ms/step - loss: 25802368.0000 - val_loss: 55786092.0000\n",
      "Epoch 172/200\n",
      "2/2 [==============================] - 0s 24ms/step - loss: 25876024.0000 - val_loss: 55889308.0000\n",
      "Epoch 173/200\n",
      "2/2 [==============================] - 0s 30ms/step - loss: 25757288.0000 - val_loss: 56369236.0000\n",
      "Epoch 174/200\n",
      "2/2 [==============================] - 0s 25ms/step - loss: 25693990.0000 - val_loss: 55922772.0000\n",
      "Epoch 175/200\n",
      "2/2 [==============================] - 0s 24ms/step - loss: 25892310.0000 - val_loss: 56339060.0000\n",
      "Epoch 176/200\n",
      "2/2 [==============================] - 0s 19ms/step - loss: 25528278.0000 - val_loss: 57136140.0000\n",
      "Epoch 177/200\n",
      "2/2 [==============================] - 0s 24ms/step - loss: 25757104.0000 - val_loss: 56452788.0000\n",
      "Epoch 178/200\n",
      "2/2 [==============================] - 0s 25ms/step - loss: 25701666.0000 - val_loss: 56542356.0000\n",
      "Epoch 179/200\n",
      "2/2 [==============================] - 0s 30ms/step - loss: 25752430.0000 - val_loss: 56883116.0000\n",
      "Epoch 180/200\n",
      "2/2 [==============================] - 0s 25ms/step - loss: 25824580.0000 - val_loss: 57537508.0000\n",
      "Epoch 181/200\n",
      "2/2 [==============================] - 0s 24ms/step - loss: 26164264.0000 - val_loss: 57261468.0000\n",
      "Epoch 182/200\n",
      "2/2 [==============================] - 0s 20ms/step - loss: 25743356.0000 - val_loss: 56650268.0000\n",
      "Epoch 183/200\n",
      "2/2 [==============================] - 0s 33ms/step - loss: 26092470.0000 - val_loss: 56466356.0000\n",
      "Epoch 184/200\n",
      "2/2 [==============================] - 0s 27ms/step - loss: 25993386.0000 - val_loss: 57120832.0000\n",
      "Epoch 185/200\n",
      "2/2 [==============================] - 0s 40ms/step - loss: 26239070.0000 - val_loss: 56847888.0000\n",
      "Epoch 186/200\n",
      "2/2 [==============================] - 0s 26ms/step - loss: 25938312.0000 - val_loss: 56407828.0000\n",
      "Epoch 187/200\n",
      "2/2 [==============================] - 0s 28ms/step - loss: 26148056.0000 - val_loss: 56104384.0000\n",
      "Epoch 188/200\n",
      "2/2 [==============================] - 0s 29ms/step - loss: 25756890.0000 - val_loss: 56296204.0000\n",
      "Epoch 189/200\n",
      "2/2 [==============================] - 0s 24ms/step - loss: 26015800.0000 - val_loss: 57092756.0000\n",
      "Epoch 190/200\n",
      "2/2 [==============================] - 0s 35ms/step - loss: 25737092.0000 - val_loss: 57458764.0000\n",
      "Epoch 191/200\n",
      "2/2 [==============================] - 0s 25ms/step - loss: 25980668.0000 - val_loss: 56557524.0000\n",
      "Epoch 192/200\n",
      "2/2 [==============================] - 0s 25ms/step - loss: 25851696.0000 - val_loss: 56437344.0000\n",
      "Epoch 193/200\n",
      "2/2 [==============================] - 0s 23ms/step - loss: 26417272.0000 - val_loss: 56349156.0000\n",
      "Epoch 194/200\n",
      "2/2 [==============================] - 0s 25ms/step - loss: 25752112.0000 - val_loss: 56320004.0000\n",
      "Epoch 195/200\n",
      "2/2 [==============================] - 0s 22ms/step - loss: 26133816.0000 - val_loss: 56824844.0000\n",
      "Epoch 196/200\n",
      "2/2 [==============================] - 0s 25ms/step - loss: 25826776.0000 - val_loss: 56006492.0000\n",
      "Epoch 197/200\n",
      "2/2 [==============================] - 0s 25ms/step - loss: 26410890.0000 - val_loss: 56016364.0000\n",
      "Epoch 198/200\n",
      "2/2 [==============================] - 0s 21ms/step - loss: 25876016.0000 - val_loss: 56869524.0000\n",
      "Epoch 199/200\n",
      "2/2 [==============================] - 0s 23ms/step - loss: 26000304.0000 - val_loss: 56335604.0000\n",
      "Epoch 200/200\n",
      "2/2 [==============================] - 0s 29ms/step - loss: 26384592.0000 - val_loss: 56261876.0000\n"
     ]
    }
   ],
   "source": [
    "model.compile(\n",
    "    optimizer=tf.keras.optimizers.Adam(lr=0.01),\n",
    "    loss=tf.keras.losses.MSE\n",
    ")\n",
    "\n",
    "trace = model.fit(x=X_train[0:30,:,:], \n",
    "                  y=y_train[0:30,:,:], \n",
    "                  batch_size=16, epochs=200, verbose=1, \n",
    "                  validation_split=0.1, shuffle=True)"
   ]
  },
  {
   "cell_type": "code",
   "execution_count": 94,
   "metadata": {},
   "outputs": [
    {
     "name": "stdout",
     "output_type": "stream",
     "text": [
      "Model: \"sequential_4\"\n",
      "_________________________________________________________________\n",
      "Layer (type)                 Output Shape              Param #   \n",
      "=================================================================\n",
      "conv1d_1 (Conv1D)            (None, 29, 32)            70592     \n",
      "_________________________________________________________________\n",
      "dense_4 (Dense)              (None, 29, 441)           14553     \n",
      "=================================================================\n",
      "Total params: 85,145\n",
      "Trainable params: 85,145\n",
      "Non-trainable params: 0\n",
      "_________________________________________________________________\n"
     ]
    }
   ],
   "source": [
    "model.summary()"
   ]
  },
  {
   "cell_type": "markdown",
   "metadata": {},
   "source": [
    "## Visualizing Results"
   ]
  },
  {
   "cell_type": "code",
   "execution_count": 111,
   "metadata": {},
   "outputs": [],
   "source": [
    "def get_audio(true_val, pred_val, index_num = 0, perc_song = 1):\n",
    "    true_val = true_val[index_num, :, :].flatten()\n",
    "    pred_val = pred_val[index_num, :, :].flatten()\n",
    "    \n",
    "    return true_val, pred_val"
   ]
  },
  {
   "cell_type": "code",
   "execution_count": 130,
   "metadata": {},
   "outputs": [],
   "source": [
    "def plot_data(true_val, pred_val, index_num = 0, perc_song = 1, start = 0):\n",
    "    \n",
    "    beginning = int(start * new_samplerate)\n",
    "    true_val = true_val[index_num, :, :].flatten()[beginning:]\n",
    "    pred_val = pred_val[index_num, :, :].flatten()[beginning:]\n",
    "    \n",
    "    desired_length = int(len(true_val) * perc_song)\n",
    "    plt.figure(figsize=(15,5))\n",
    "    plt.plot(np.arange(beginning, beginning + desired_length)/new_samplerate, \n",
    "                            true_val[:desired_length], label='true')\n",
    "    plt.plot(np.arange(beginning + windowsize, beginning + windowsize + desired_length)/new_samplerate, \n",
    "                            pred_val[:desired_length], label='pred')\n",
    "    \n",
    "    min_val = min(np.min(true_val), np.min(pred_val))\n",
    "    max_val = max(np.max(true_val), np.max(pred_val))\n",
    "    plt.vlines(np.arange(0, desired_length, windowsize) / new_samplerate, \n",
    "                            ymin = min_val, ymax = max_val, colors='y')\n",
    "    plt.legend()\n",
    "\n",
    "    plt.show\n",
    "    return pred_val"
   ]
  },
  {
   "cell_type": "code",
   "execution_count": 131,
   "metadata": {},
   "outputs": [],
   "source": [
    "y_pred = model.predict(X_train)"
   ]
  },
  {
   "cell_type": "code",
   "execution_count": 132,
   "metadata": {},
   "outputs": [
    {
     "data": {
      "text/plain": [
       "array([-523.5229 , -423.57498, -245.83977, ...,  227.93971,  268.37213,\n",
       "        329.39944], dtype=float32)"
      ]
     },
     "execution_count": 132,
     "metadata": {},
     "output_type": "execute_result"
    },
    {
     "data": {
      "image/png": "[encoded data removed]",
      "text/plain": [
       "<Figure size 1080x360 with 1 Axes>"
      ]
     },
     "metadata": {
      "needs_background": "light"
     },
     "output_type": "display_data"
    }
   ],
   "source": [
    "plot_data(X_train, y_pred, 1, 0.01, 0.5)"
   ]
  },
  {
   "cell_type": "code",
   "execution_count": 120,
   "metadata": {},
   "outputs": [
    {
     "data": {
      "text/html": [
       "\n",
       "                <audio  controls=\"controls\" >\n",
       "                    <source src=\"data:audio/wav;base64,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\" type=\"audio/wav\" />\n",
       "                    Your browser does not support the audio element.\n",
       "                </audio>\n",
       "              "
      ],
      "text/plain": [
       "<IPython.lib.display.Audio object>"
      ]
     },
     "execution_count": 120,
     "metadata": {},
     "output_type": "execute_result"
    }
   ],
   "source": [
    "IPython.display.Audio(data = get_audio(X_train, y_pred, 1, 1)[1], rate = new_samplerate)"
   ]
  },
  {
   "cell_type": "code",
   "execution_count": 122,
   "metadata": {},
   "outputs": [
    {
     "data": {
      "image/png": "[encoded data removed]",
      "text/plain": [
       "<Figure size 432x288 with 1 Axes>"
      ]
     },
     "metadata": {
      "needs_background": "light"
     },
     "output_type": "display_data"
    }
   ],
   "source": [
    "a, b = get_audio(X_train, y_pred, 1, 1)\n",
    "plt.plot(np.arange(len(a)), a)\n",
    "plt.plot(np.arange(len(b)), b)\n",
    "plt.show()"
   ]
  },
  {
   "cell_type": "code",
   "execution_count": null,
   "metadata": {},
   "outputs": [],
   "source": []
  }
 ],
 "metadata": {
  "kernelspec": {
   "display_name": "Python 3",
   "language": "python",
   "name": "python3"
  },
  "language_info": {
   "codemirror_mode": {
    "name": "ipython",
    "version": 3
   },
   "file_extension": ".py",
   "mimetype": "text/x-python",
   "name": "python",
   "nbconvert_exporter": "python",
   "pygments_lexer": "ipython3",
   "version": "3.7.9"
  }
 },
 "nbformat": 4,
 "nbformat_minor": 2
}
